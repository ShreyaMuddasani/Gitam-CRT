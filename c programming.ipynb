{
 "cells": [
  {
   "cell_type": "markdown",
   "metadata": {},
   "source": [
    "1. Read the input as number and check whether the given number is divisible by 3 and 5 or not. print yes if it is divisble by both 3 and 5."
   ]
  },
  {
   "cell_type": "code",
   "execution_count": null,
   "metadata": {},
   "outputs": [],
   "source": [
    "#include<stdio.h>\n",
    "int main()\n",
    "{\n",
    "\tint x;\n",
    "\tprintf(\"enter the number\");\n",
    "\tscanf(\"%d\",&x);\n",
    "\tif(x%3 == 0  && x%5 == 0)\n",
    "\tprintf(\"yes\");\n",
    "\telse\n",
    "\tprintf(\"no\");\n",
    "\treturn 0 ;\n",
    "}"
   ]
  },
  {
   "cell_type": "markdown",
   "metadata": {},
   "source": [
    "2. Read the input as Character and print as \"Upper case\",\"Lower Case\",\"Digit\"."
   ]
  },
  {
   "cell_type": "code",
   "execution_count": null,
   "metadata": {},
   "outputs": [],
   "source": [
    "#include<stdio.h>\n",
    "int main()\n",
    "{\n",
    "\tchar x;\n",
    "\tscanf(\"%c\",x);\n",
    "\tif(x>=65 && x<=122)\n",
    "\tprintf(\"Upper case\");\n",
    "\telse if(x >= 97 && x <= 122)\n",
    "\tprintf(\"Lower case\");\n",
    "\telse if(x >=48 && x <= 57)\n",
    "\tprintf(\"Digit\");\n",
    "    return 0 ;\n",
    "\t\n",
    "}"
   ]
  },
  {
   "cell_type": "markdown",
   "metadata": {},
   "source": [
    "3.Read the input as character and print the output as \"Vowel\" or \"Consonant\"."
   ]
  },
  {
   "cell_type": "markdown",
   "metadata": {},
   "source": [
    "#include<stdio.h>\n",
    "int main()\n",
    "{\n",
    "\tchar x;\n",
    "\tscanf(\"%c\",&x);\n",
    "\tif(x== 'a' || x=='e' || x=='i'|| x=='o' || x=='u')\n",
    "\t{\n",
    "\tprintf(\"vowel\");\n",
    "\t}\n",
    "\telse\n",
    "{\n",
    "\tprintf(\"consonant\");\n",
    "} \n",
    "\treturn 0;\n",
    "}"
   ]
  },
  {
   "cell_type": "markdown",
   "metadata": {},
   "source": [
    "4. Read the input as number between 1 to 7 and print the output as \"day of the week\". Use switch statement."
   ]
  },
  {
   "cell_type": "markdown",
   "metadata": {},
   "source": [
    "#include<stdio.h>\n",
    "int main()\n",
    "{\n",
    "\tint n;\n",
    "\tscanf(\"%d\",&n);\n",
    "\tswitch(n)\n",
    "\t{\n",
    "\t\tcase 1: \n",
    "\t\tprintf(\"Sunday\");\n",
    "\t\tbreak;\n",
    "\t\tcase 2: \n",
    "\t\tprintf(\"Monday\");\n",
    "\t\tbreak;\n",
    "\t\tcase 3: \n",
    "\t\tprintf(\"Tuesday\");\n",
    "\t\tbreak;\n",
    "\t\tcase 4:\n",
    "\t\tprintf(\"Wednesday\");\n",
    "\t\tbreak;\n",
    "\t\tcase 5:\n",
    "\t\tprintf(\"Thursday\");\n",
    "\t\tbreak;\n",
    "\t\tcase 6:\n",
    "\t\tprintf(\"Friday\");\n",
    "\t\tbreak;\n",
    "\t\tcase 7: \n",
    "\t    printf(\"Saturday\");\t\n",
    "\t    break;\n",
    "\t}\n",
    "\treturn 0;\n",
    "}"
   ]
  },
  {
   "cell_type": "markdown",
   "metadata": {},
   "source": [
    "5.Read the input as character and print the output as \"Vowel\" or \"Consonant\"."
   ]
  },
  {
   "cell_type": "markdown",
   "metadata": {},
   "source": [
    "#include<stdio.h>\n",
    "int main()\n",
    "{\n",
    "\tchar x;\n",
    "\tscanf(\"%c\",&x);\n",
    "\tswitch(x)\n",
    "\t{\n",
    "\t\tcase 'a': \n",
    "\t\tprintf(\"Vowel\");\n",
    "\t\tbreak;\n",
    "\t\tcase 'e':\n",
    "\t\tprintf(\"Vowel\");\n",
    "\t\tbreak;\n",
    "\t\tcase 'i':\n",
    "\t\tprintf(\"Vowel\");\n",
    "\t\tbreak;\n",
    "\t\tcase 'o':\n",
    "\t\tprintf(\"Vowel\");\n",
    "\t\tbreak;\n",
    "\t\tcase 'u':\n",
    "\t\tprintf(\"Vowel\");\n",
    "\t\tbreak;\n",
    "\t\tdefault:printf(\"consonant\");\n",
    "\t\tbreak;\n",
    "\t}\n",
    "\treturn 0;\n",
    "}"
   ]
  },
  {
   "cell_type": "markdown",
   "metadata": {},
   "source": [
    "6.Read he input as three numbers and Print the output as follows.If the first number is large number print the output as multiplication of second an third number and vice versa."
   ]
  },
  {
   "cell_type": "markdown",
   "metadata": {},
   "source": [
    "#include<stdio.h>\n",
    "int main()\n",
    "{\n",
    "\n",
    "\tint a,b,c;\n",
    "\tscanf(\"%d %d %d\",&a,&b,&c);\n",
    "\tif(a>b && a>c)\n",
    "\t{\n",
    "    \tprintf(\"%d\",b*c);\n",
    "\t}\n",
    "\telse if(b>a && b>c)\n",
    "\t{\n",
    "\t\tprintf(\"%d\",a*c);\n",
    "\t}\n",
    "\telse\n",
    "\t{\n",
    "\t\tprintf(\"%d\",a*b);\n",
    "\t}\n",
    "\treturn 0;\n",
    "}"
   ]
  },
  {
   "cell_type": "markdown",
   "metadata": {},
   "source": [
    "loop statements: while\n",
    "    7. Read the input as number and print the outpu as large digit of the given number.\n",
    "    Test cases:\n",
    "        89261 ---- 9\n",
    "        5762 ---- 7\n",
    "    \n",
    "    "
   ]
  },
  {
   "cell_type": "markdown",
   "metadata": {},
   "source": [
    "#include<stdio.h>\n",
    "int main()\n",
    "{\n",
    "\tint a,x,large;\n",
    "\tscanf(\"%d\",&a);\n",
    "\tlarge=0;\n",
    "\twhile(a!=0)\n",
    "\t{\n",
    "\t\tx=a%10;\n",
    "\tif(large<x)\n",
    "\tlarge=x;\n",
    "\ta=a/10;\n",
    "}\n",
    "printf(\"%d\",large);\n",
    "return 0;\t\n",
    "}"
   ]
  },
  {
   "cell_type": "code",
   "execution_count": null,
   "metadata": {},
   "outputs": [],
   "source": [
    "8. Read the number as input and print the output as large digit from last three numbers.\n",
    "test cases:\n",
    "    89261 --- 6\n",
    "    97862 --- 8"
   ]
  },
  {
   "cell_type": "code",
   "execution_count": null,
   "metadata": {},
   "outputs": [],
   "source": [
    "#include<stdio.h>\n",
    "int main()\n",
    "{\n",
    "\tlong a;\n",
    "\tint x,large,count=0;\n",
    "\tscanf(\"%d\",&a);\n",
    "\tlarge=0;\n",
    "\twhile(count!=3)\n",
    "{\n",
    "\tx=a%10;\n",
    "\tif(large<x)\n",
    "\tlarge=x;\n",
    "\ta=a/10;\n",
    "\tcount++;\n",
    "}\n",
    "printf(\"%d\",large);\n",
    "return 0;\t\n",
    "}"
   ]
  },
  {
   "cell_type": "markdown",
   "metadata": {},
   "source": [
    "9. Read the number as input and Print the output as follows:\n",
    " test cases: \n",
    " -------\n",
    " 89261 -- <1,9>\n",
    " 97268 -- <2,9>"
   ]
  },
  {
   "cell_type": "code",
   "execution_count": null,
   "metadata": {},
   "outputs": [],
   "source": [
    "#include<stdio.h>\n",
    "int main()\n",
    "{\n",
    "    int r,large=0,small=9;\n",
    "    long x;\n",
    "    scanf(\"%ld\",&x);\n",
    "    while(x!=0)\n",
    "    {\n",
    "    \tr=x%10;\n",
    "    \tif(r>large)\n",
    "    \t{\n",
    "    \t\tlarge = r;\n",
    "    \t\t\n",
    "\t\t}\n",
    "\t\tif(r<small)\n",
    "\t\t{\n",
    "\t\t\tsmall = r;\n",
    "\t\t\t\n",
    "\t\t}\n",
    "\t\tx /=10;\n",
    "\t\t\n",
    "\t}\n",
    "\tprintf(\"<%d> <%d>\",small,large);\n",
    "    return 0;\n",
    "}"
   ]
  },
  {
   "cell_type": "code",
   "execution_count": null,
   "metadata": {},
   "outputs": [],
   "source": [
    "10) print the reverse of a number using in alphabet form."
   ]
  },
  {
   "cell_type": "markdown",
   "metadata": {},
   "source": [
    "#include<stdio.h>\n",
    "int main()\n",
    "{\n",
    "\tint n,rev=0,remainder;\n",
    "\tprintf(\"enter an integer : \");\n",
    "\tscanf(\"%d\",&n);\n",
    "\twhile(n!=0)\n",
    "\t{\n",
    "\t\tremainder=n%10;\n",
    "\tswitch(remainder)\n",
    "\t{\n",
    "\t\t\tcase 0:\n",
    "\t\tprintf(\"zero\\t\");\n",
    "\t\tbreak;\n",
    "\tcase 1:\n",
    "\t\tprintf(\"one\\t\");\n",
    "\tbreak;\n",
    "\tcase 2:\n",
    "\t\tprintf(\"two\\t\");\n",
    "\tbreak;\n",
    "\tcase 3:\n",
    "\t\tprintf(\"three\\t\");\n",
    "\tbreak;\n",
    "\tcase 4:\n",
    "\t\tprintf(\"four\\t\");\n",
    "\t\tbreak;\n",
    "\tcase 5:\n",
    "\t\tprintf(\"five\\t\");\n",
    "\t\tbreak;\n",
    "\t\tcase 6:\n",
    "\t\t\tprintf(\"six\\t\");\n",
    "\t\t\tbreak;\n",
    "\t\t\tcase 7:\n",
    "\t\t\t\tprintf(\"seven\\t\");\n",
    "\t\t\t\tbreak;\n",
    "\t\t\t\tcase 8:\n",
    "\t\t\t\t\tprintf(\"eight\\t\");\n",
    "\t\t\t\t\tbreak;\n",
    "\t\t\t\t\tcase 9:\n",
    "\t\t\t\t\t\tprintf(\"nine\\t\");\n",
    "\t\t\t\t\t\tbreak;\n",
    "\t}\n",
    "n=n/10;\n",
    "}\n",
    "\n",
    "\t\n",
    "\treturn 0;\n",
    "\t}"
   ]
  },
  {
   "cell_type": "markdown",
   "metadata": {},
   "source": [
    "11) read the input as number and print the output as sum of even digits of a number:"
   ]
  },
  {
   "cell_type": "markdown",
   "metadata": {},
   "source": [
    "#include<stdio.h>\n",
    "int main()\n",
    "{\n",
    "\tint r,s=0;\n",
    "\tlong x;\n",
    "\tscanf(\"%ld\",&x);\n",
    "\twhile(x!=0)\n",
    "\t{\n",
    "\t\tr=x%10;\n",
    "\t\tif(r%2==0)\n",
    "\t{\n",
    "\t\t\ts=s+r;\n",
    "\t}\n",
    "\tx=x/10;\n",
    "}\n",
    "printf(\"%d\",s);\n",
    "return 0;\n",
    "}"
   ]
  },
  {
   "cell_type": "markdown",
   "metadata": {},
   "source": [
    "12) Read the number as input and Print the Factors/Divisors for given number in the range of 1 to n.\n",
    "\n",
    "Test cases : \n",
    "-------\n",
    "6  -- 1 2 3  \n",
    "12 -- 1 2 3 4 6 12\n",
    "24 -- 1 2 3 4 6 8 12 24 "
   ]
  },
  {
   "cell_type": "markdown",
   "metadata": {},
   "source": [
    "#include<stdio.h>\n",
    "int main()\n",
    "{\n",
    "\tint a,i;\n",
    "\tscanf(\"%d\",&a);\n",
    "\tfor(i=1;i<=a;i++)\n",
    "\t{\n",
    "\t\tif(a%i==0)\n",
    "\t\t{\n",
    "\t\t\tprintf(\"%d\",i);\n",
    "\t\t}\n",
    "\t}\n",
    "\treturn 0;\n",
    "\n",
    "\t\n",
    "}"
   ]
  },
  {
   "cell_type": "markdown",
   "metadata": {},
   "source": [
    "13) Read the input as number and print the output as follows:\n",
    "test cases : \n",
    "-----------'\n",
    "1889 -- 5\n",
    "12364 -- 2\n",
    "1591 -- 1\n",
    "1277 -- 0\n",
    "\n"
   ]
  },
  {
   "cell_type": "code",
   "execution_count": null,
   "metadata": {},
   "outputs": [],
   "source": [
    "#include<stdio.h>\n",
    "int main()\n",
    "{\n",
    "\tint a,x,sum;\n",
    "\tscanf(\"%d\",&x);\n",
    "\twhile(x!=0)\n",
    "\t{   \n",
    "\t\ta=x%10;\n",
    "\t\tswitch(a)\n",
    "\t\t{\n",
    "\t\tcase 4: sum+=1;\n",
    "\t\tbreak;\n",
    "\t\tcase 6 : sum+=1;\n",
    "\t\tbreak;\n",
    "\t\tcase 8:\t sum+=2;\n",
    "\t\tbreak;\n",
    "\t\tcase 9: sum+=1;\n",
    "\t\tbreak;\n",
    "\t}\n",
    "\tx=x/10;\n",
    "}\n",
    "\tprintf(\"%d\",sum);\n",
    "\treturn 0;\n",
    "}\n"
   ]
  },
  {
   "cell_type": "markdown",
   "metadata": {},
   "source": [
    "USER DEFINED FUNCTIONs: reverse and prime number logic clubed."
   ]
  },
  {
   "cell_type": "code",
   "execution_count": null,
   "metadata": {},
   "outputs": [],
   "source": [
    "#include<stdio.h>\n",
    "int reverse(int a)\n",
    "{\n",
    "\tint rev=0;\n",
    "\twhile(a!=0)\n",
    "\t{\n",
    "\t\trev=rev*10+(a%10);\n",
    "\t\ta /= 10;\n",
    "\t}\n",
    "\treturn rev;\n",
    "}\n",
    "int isPrime(int x){\n",
    " int start,flag=0;\n",
    " for(start=2;start<=(x/2);start++)\n",
    " {\n",
    " \tif(x%start==0)\n",
    " \t{\n",
    " \t\tflag=1;\n",
    " \t\tbreak;\n",
    "\t}\n",
    "\t \n",
    " }\n",
    " if(flag==0)\n",
    " {\n",
    " \treturn 1;\n",
    " \t\n",
    " }\n",
    " else \n",
    " {\n",
    " \treturn 0;\n",
    " }\n",
    "}\n",
    "int main()\n",
    "{\n",
    "\tint r,rev=0;\n",
    "\tlong x,buffer;\n",
    "\tscanf(\"%ld\",&x);\n",
    "\tbuffer = reverse(x);\n",
    "\tif( isPrime(x)  &&  isPrime(buffer))\n",
    "\t{\n",
    "\t\tprintf(\"Yes\");\n",
    "\t}\n",
    "\telse\n",
    "\t{\n",
    "\t\tprintf(\"No\");\n",
    "\t}\n",
    "\treturn 0;\n",
    "}\n",
    "\n"
   ]
  },
  {
   "cell_type": "code",
   "execution_count": null,
   "metadata": {},
   "outputs": [],
   "source": [
    "10) Read the two limits as input to program and print the output  as Even palindrome count\n",
    "Test Cases: \n",
    "    -------\n",
    "1 10 ---- 4(2,4,6,8)\n",
    "1 100 ---- 8(2,4,6,8,22,44,66,88)"
   ]
  },
  {
   "cell_type": "markdown",
   "metadata": {},
   "source": [
    "#include<stdio.h>\n",
    "int isPalindrome(int x)\n",
    "{\n",
    "\tint rev=0,buffer=x;\n",
    "\twhile(x!=0){\n",
    "\t\trev= rev*10 + (x%10);\n",
    "\t\tx = x/10;\n",
    "\t\t\n",
    "\t}\n",
    "\tif(rev==buffer){\n",
    "\t\treturn 1;\n",
    "\t}\n",
    "\telse{\n",
    "\t\treturn 0;\n",
    "\t}\n",
    "}\n",
    "int main()\n",
    "{\n",
    "\tint x1,x2,i,a,cnt=0;\n",
    "\tscanf(\"%d%d\",&x1,&x2);\n",
    "\tfor(i=x1;i<=x2;i++)\n",
    "\t{\n",
    "\t\t\n",
    "\t\tif(i%2==0) // even number\n",
    "\t\t{\n",
    "\t\ta = isPalindrome(i);//palindrome\n",
    "\t\tif(a==1){\n",
    "            printf(\"%d\",i);\n",
    "\t\t\tcnt++;\n",
    "\t\t}\n",
    "\t}\n",
    "}\n",
    "printf(\"%d\",cnt);\n",
    "return 0;\n",
    "}"
   ]
  },
  {
   "cell_type": "code",
   "execution_count": null,
   "metadata": {},
   "outputs": [],
   "source": [
    "11) Read he two lines of input and single line output.\n",
    "Input:\n",
    "    Line 1: Two limits.\n",
    "    Line 2: Single Integer value n.\n",
    "        Output: \n",
    "            Nth palindrome between two limits\n",
    "            \n",
    "TEST CASES:\n",
    "    -------\n",
    "    Input : \n",
    "        1 10\n",
    "        5\n",
    "    output:\n",
    "        5"
   ]
  },
  {
   "cell_type": "code",
   "execution_count": null,
   "metadata": {},
   "outputs": [],
   "source": []
  }
 ],
 "metadata": {
  "kernelspec": {
   "display_name": "Python 3",
   "language": "python",
   "name": "python3"
  },
  "language_info": {
   "codemirror_mode": {
    "name": "ipython",
    "version": 3
   },
   "file_extension": ".py",
   "mimetype": "text/x-python",
   "name": "python",
   "nbconvert_exporter": "python",
   "pygments_lexer": "ipython3",
   "version": "3.7.4"
  }
 },
 "nbformat": 4,
 "nbformat_minor": 2
}
