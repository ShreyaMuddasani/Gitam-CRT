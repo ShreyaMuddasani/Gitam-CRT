{
 "cells": [
  {
   "cell_type": "markdown",
   "metadata": {},
   "source": [
    "1. Read the input as number and check whether the given number is divisible by 3 and 5 or not. print yes if it is divisble by both 3 and 5."
   ]
  },
  {
   "cell_type": "code",
   "execution_count": null,
   "metadata": {},
   "outputs": [],
   "source": [
    "#include<stdio.h>\n",
    "int main()\n",
    "{\n",
    "\tint x;\n",
    "\tprintf(\"enter th number\");\n",
    "\tscanf(\"%d\",&x);\n",
    "\tif(x%3 == 0  && x%5 == 0)\n",
    "\tprintf(\"yes\");\n",
    "\telse\n",
    "\tprintf(\"no\");\n",
    "\treturn 0 ;\n",
    "}"
   ]
  },
  {
   "cell_type": "markdown",
   "metadata": {},
   "source": [
    "2. Read the input as Character and print as \"Upper case\",\"Lower Case\",\"Digit\"."
   ]
  },
  {
   "cell_type": "code",
   "execution_count": null,
   "metadata": {},
   "outputs": [],
   "source": [
    "#include<stdio.h>\n",
    "int main()\n",
    "{\n",
    "\tchar x;\n",
    "\tscanf(\"%c\",x);\n",
    "\tif(x>=65 && x<=122)\n",
    "\tprintf(\"Upper case\");\n",
    "\telse if(x >= 97 && x <= 122)\n",
    "\tprintf(\"Lower case\");\n",
    "\telse if(x >=48 && x <= 57)\n",
    "\tprintf(\"Digit\");\n",
    "    return 0 ;\n",
    "\t\n",
    "}"
   ]
  },
  {
   "cell_type": "markdown",
   "metadata": {},
   "source": [
    "3.Read the input as character and print the output as \"Vowel\" or \"Consonant\"."
   ]
  },
  {
   "cell_type": "markdown",
   "metadata": {},
   "source": [
    "#include<stdio.h>\n",
    "int main()\n",
    "{\n",
    "\tchar x;\n",
    "\tscanf(\"%c\",&x);\n",
    "\tif(x== 'a' || x=='e' || x=='i'|| x=='o' || x=='u')\n",
    "\t{\n",
    "\tprintf(\"vowel\");\n",
    "\t}\n",
    "\telse\n",
    "{\n",
    "\tprintf(\"consonant\");\n",
    "} \n",
    "\treturn 0;\n",
    "}"
   ]
  },
  {
   "cell_type": "markdown",
   "metadata": {},
   "source": [
    "4. Read the input as number between 1 to 7 and print the output as \"day of the week\". Use switch statement."
   ]
  },
  {
   "cell_type": "markdown",
   "metadata": {},
   "source": [
    "#include<stdio.h>\n",
    "int main()\n",
    "{\n",
    "\tint n;\n",
    "\tscanf(\"%d\",&n);\n",
    "\tswitch(n)\n",
    "\t{\n",
    "\t\tcase 1: \n",
    "\t\tprintf(\"Sunday\");\n",
    "\t\tbreak;\n",
    "\t\tcase 2: \n",
    "\t\tprintf(\"Monday\");\n",
    "\t\tbreak;\n",
    "\t\tcase 3: \n",
    "\t\tprintf(\"Tuesday\");\n",
    "\t\tbreak;\n",
    "\t\tcase 4:\n",
    "\t\tprintf(\"Wednesday\");\n",
    "\t\tbreak;\n",
    "\t\tcase 5:\n",
    "\t\tprintf(\"Thursday\");\n",
    "\t\tbreak;\n",
    "\t\tcase 6:\n",
    "\t\tprintf(\"Friday\");\n",
    "\t\tbreak;\n",
    "\t\tcase 7: \n",
    "\t    printf(\"Saturday\");\t\n",
    "\t    break;\n",
    "\t}\n",
    "\treturn 0;\n",
    "}"
   ]
  },
  {
   "cell_type": "markdown",
   "metadata": {},
   "source": [
    "5.Read the input as character and print the output as \"Vowel\" or \"Consonant\"."
   ]
  },
  {
   "cell_type": "markdown",
   "metadata": {},
   "source": [
    "#include<stdio.h>\n",
    "int main()\n",
    "{\n",
    "\tchar x;\n",
    "\tscanf(\"%c\",&x);\n",
    "\tswitch(x)\n",
    "\t{\n",
    "\t\tcase 'a': \n",
    "\t\tprintf(\"Vowel\");\n",
    "\t\tbreak;\n",
    "\t\tcase 'e':\n",
    "\t\tprintf(\"Vowel\");\n",
    "\t\tbreak;\n",
    "\t\tcase 'i':\n",
    "\t\tprintf(\"Vowel\");\n",
    "\t\tbreak;\n",
    "\t\tcase 'o':\n",
    "\t\tprintf(\"Vowel\");\n",
    "\t\tbreak;\n",
    "\t\tcase 'u':\n",
    "\t\tprintf(\"Vowel\");\n",
    "\t\tbreak;\n",
    "\t\tdefault:printf(\"consonant\");\n",
    "\t\tbreak;\n",
    "\t}\n",
    "\treturn 0;\n",
    "}"
   ]
  },
  {
   "cell_type": "markdown",
   "metadata": {},
   "source": [
    "6.Read he input as three numbers and Print the output as follows.If the first number is large number print the output as multiplication of second an third number and vice versa."
   ]
  },
  {
   "cell_type": "markdown",
   "metadata": {},
   "source": [
    "#include<stdio.h>\n",
    "int main()\n",
    "{\n",
    "\n",
    "\tint a,b,c;\n",
    "\tscanf(\"%d %d %d\",&a,&b,&c);\n",
    "\tif(a>b && a>c)\n",
    "\t{\n",
    "    \tprintf(\"%d\",b*c);\n",
    "\t}\n",
    "\telse if(b>a && b>c)\n",
    "\t{\n",
    "\t\tprintf(\"%d\",a*c);\n",
    "\t}\n",
    "\telse\n",
    "\t{\n",
    "\t\tprintf(\"%d\",a*b);\n",
    "\t}\n",
    "\treturn 0;\n",
    "}"
   ]
  },
  {
   "cell_type": "code",
   "execution_count": null,
   "metadata": {},
   "outputs": [],
   "source": [
    "loop statements: while\n",
    "    7. Read the input as number and print the digits of the given number\n",
    "    test cases: \n",
    "        145 --\n",
    "    \n",
    "    "
   ]
  }
 ],
 "metadata": {
  "kernelspec": {
   "display_name": "Python 3",
   "language": "python",
   "name": "python3"
  },
  "language_info": {
   "codemirror_mode": {
    "name": "ipython",
    "version": 3
   },
   "file_extension": ".py",
   "mimetype": "text/x-python",
   "name": "python",
   "nbconvert_exporter": "python",
   "pygments_lexer": "ipython3",
   "version": "3.7.4"
  }
 },
 "nbformat": 4,
 "nbformat_minor": 2
}
